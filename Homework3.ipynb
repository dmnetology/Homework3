{
 "cells": [
  {
   "cell_type": "markdown",
   "id": "30f2ca18",
   "metadata": {},
   "source": [
    "**Задание**\n",
    "</br>Написать код на Python в среде Jupyter Notebook для решения задачи.\n",
    "\n",
    "</br>Необходимо написать программу, которая сформирует словарь данных на основании заданных критериев (ключ = ключ в исходной структуре, значение = True — если количество ниже 20 , False — остальные случаи). \n",
    "</br>При разработке использовать dict comprehension."
   ]
  },
  {
   "cell_type": "markdown",
   "id": "71da5a3c",
   "metadata": {},
   "source": [
    "</br>Исходные данные имеют следующую структуру:\n",
    "</br>items = {\n",
    "</br>'milk15':{'name': 'молоко 1.5%', 'count': 34', 'price': 89.9},\n",
    "</br> 'cheese':{'name': сыр молочный 1 кг.', 'count': 12', 'price': 990.9},\n",
    "</br> 'sausage':{'name': колбаса 1 кг.', 'count': 122', 'price': 1990.9}\n",
    "</br>}"
   ]
  },
  {
   "cell_type": "code",
   "execution_count": 1,
   "id": "f2cb4457",
   "metadata": {},
   "outputs": [],
   "source": [
    "# задаем исходный словарь\n",
    "items = {\n",
    " 'milk15':{'name': 'молоко 1.5%', 'count': 34, 'price': 89.9},\n",
    " 'cheese':{'name': 'сыр молочный 1 кг.', 'count': 12, 'price': 990.9},\n",
    " 'sausage':{'name': 'колбаса 1 кг.', 'count': 122, 'price': 1990.9}\n",
    "}"
   ]
  },
  {
   "cell_type": "code",
   "execution_count": 2,
   "id": "042888cd",
   "metadata": {},
   "outputs": [],
   "source": [
    "# через генератор словарей создаем новый словарь, где значение True/False по условию\n",
    "price_less_20 = {k: (True if v['count'] < 20 else False) for (k,v) in items.items()}"
   ]
  },
  {
   "cell_type": "code",
   "execution_count": 3,
   "id": "d0b89f59",
   "metadata": {},
   "outputs": [
    {
     "name": "stdout",
     "output_type": "stream",
     "text": [
      "{'milk15': False, 'cheese': True, 'sausage': False}\n"
     ]
    }
   ],
   "source": [
    "print(price_less_20)"
   ]
  },
  {
   "cell_type": "code",
   "execution_count": null,
   "id": "460e0792",
   "metadata": {},
   "outputs": [],
   "source": []
  }
 ],
 "metadata": {
  "kernelspec": {
   "display_name": "Python 3 (ipykernel)",
   "language": "python",
   "name": "python3"
  },
  "language_info": {
   "codemirror_mode": {
    "name": "ipython",
    "version": 3
   },
   "file_extension": ".py",
   "mimetype": "text/x-python",
   "name": "python",
   "nbconvert_exporter": "python",
   "pygments_lexer": "ipython3",
   "version": "3.9.12"
  },
  "toc": {
   "base_numbering": 1,
   "nav_menu": {},
   "number_sections": true,
   "sideBar": true,
   "skip_h1_title": false,
   "title_cell": "Table of Contents",
   "title_sidebar": "Contents",
   "toc_cell": false,
   "toc_position": {},
   "toc_section_display": true,
   "toc_window_display": false
  }
 },
 "nbformat": 4,
 "nbformat_minor": 5
}
